{
 "cells": [
  {
   "cell_type": "code",
   "execution_count": null,
   "id": "a9d55dd3",
   "metadata": {},
   "outputs": [
    {
     "name": "stdout",
     "output_type": "stream",
     "text": [
      "Downloading data from https://storage.googleapis.com/tensorflow/keras-applications/vgg16/vgg16_weights_tf_dim_ordering_tf_kernels_notop.h5\n",
      "\u001b[1m58889256/58889256\u001b[0m \u001b[32m━━━━━━━━━━━━━━━━━━━━\u001b[0m\u001b[37m\u001b[0m \u001b[1m25s\u001b[0m 0us/step\n",
      "Epoch 1/5\n",
      "\u001b[1m782/782\u001b[0m \u001b[32m━━━━━━━━━━━━━━━━━━━━\u001b[0m\u001b[37m\u001b[0m \u001b[1m805s\u001b[0m 1s/step - accuracy: 0.3844 - loss: 1.7537 - val_accuracy: 0.6193 - val_loss: 1.1550\n",
      "Epoch 2/5\n",
      "\u001b[1m419/782\u001b[0m \u001b[32m━━━━━━━━━━\u001b[0m\u001b[37m━━━━━━━━━━\u001b[0m \u001b[1m5:10\u001b[0m 856ms/step - accuracy: 0.5425 - loss: 1.3229"
     ]
    }
   ],
   "source": [
    "import tensorflow as tf\n",
    "import matplotlib.pyplot as plt\n",
    "from tensorflow.keras.applications import VGG16\n",
    "from tensorflow.keras.layers import Dense, Flatten, Dropout\n",
    "from tensorflow.keras.models import Model\n",
    "\n",
    "# Load CIFAR-10 dataset and preprocess\n",
    "(x_train, y_train), (x_test, y_test) = tf.keras.datasets.cifar10.load_data()\n",
    "x_train, x_test = tf.image.resize(x_train / 255.0, (64, 64)), tf.image.resize(x_test / 255.0, (64, 64))\n",
    "\n",
    "# Load pre-trained VGG16 model, freeze base layers\n",
    "base_model = VGG16(weights='imagenet', include_top=False, input_shape=(64, 64, 3))\n",
    "for layer in base_model.layers: layer.trainable = False\n",
    "\n",
    "# Add custom classifier\n",
    "x = Flatten()(base_model.output)\n",
    "x = Dense(64, activation='relu')(x)\n",
    "x = Dropout(0.5)(x)\n",
    "x = Dense(10, activation='softmax')(x)\n",
    "\n",
    "# Create and compile model\n",
    "model = Model(inputs=base_model.input, outputs=x)\n",
    "model.compile(optimizer='adam', loss='sparse_categorical_crossentropy', metrics=['accuracy'])\n",
    "\n",
    "# Train and evaluate model\n",
    "model.fit(x_train, y_train, epochs=5, validation_data=(x_test, y_test), batch_size=64)\n",
    "test_acc = model.evaluate(x_test, y_test, verbose=0)[1]\n",
    "\n",
    "# Predict and visualize results\n",
    "predictions = model.predict(x_test)\n",
    "plt.imshow(x_test[10])\n",
    "plt.title(f\"Pred: {predictions[10].argmax()}, Actual: {y_test[10][0]}\")\n",
    "plt.show()\n",
    "\n",
    "print(f'Test accuracy: {test_acc * 100:.2f}%')"
   ]
  },
  {
   "cell_type": "code",
   "execution_count": null,
   "id": "a4eb6b0b",
   "metadata": {},
   "outputs": [],
   "source": []
  }
 ],
 "metadata": {
  "kernelspec": {
   "display_name": "Python 3 (ipykernel)",
   "language": "python",
   "name": "python3"
  },
  "language_info": {
   "codemirror_mode": {
    "name": "ipython",
    "version": 3
   },
   "file_extension": ".py",
   "mimetype": "text/x-python",
   "name": "python",
   "nbconvert_exporter": "python",
   "pygments_lexer": "ipython3",
   "version": "3.11.7"
  }
 },
 "nbformat": 4,
 "nbformat_minor": 5
}
